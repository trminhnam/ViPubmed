{
 "cells": [
  {
   "cell_type": "code",
   "execution_count": 1,
   "id": "d8ffa2cd-7349-4320-b334-a25174b014f6",
   "metadata": {},
   "outputs": [
    {
     "name": "stdout",
     "output_type": "stream",
     "text": [
      "Cloning into 'ViPubmed'...\n",
      "remote: Enumerating objects: 410, done.\u001b[K\n",
      "remote: Counting objects: 100% (89/89), done.\u001b[K\n",
      "remote: Compressing objects: 100% (66/66), done.\u001b[K\n",
      "remote: Total 410 (delta 45), reused 58 (delta 21), pack-reused 321\u001b[K\n",
      "Receiving objects: 100% (410/410), 8.03 MiB | 12.07 MiB/s, done.\n",
      "Resolving deltas: 100% (213/213), done.\n"
     ]
    }
   ],
   "source": [
    "!rm -r ViPubmed\n",
    "!git clone https://github.com/justinphan3110/ViPubmed.git"
   ]
  },
  {
   "cell_type": "code",
   "execution_count": null,
   "id": "6568ab59-77ee-42e9-8142-5f4fdca89f33",
   "metadata": {},
   "outputs": [],
   "source": [
    "## Install JAX for GPU\n",
    "!pip install jaxlib==0.4.2+cuda11.cudnn86 -f https://storage.googleapis.com/jax-releases/jax_cuda_releases.html\n",
    "## Install T5X and dependencies\n",
    "!cd ViPubmed && python3 setup.py"
   ]
  },
  {
   "cell_type": "code",
   "execution_count": null,
   "id": "522d162b-ce79-4f89-b585-e3ed94f58a64",
   "metadata": {},
   "outputs": [],
   "source": [
    "# download ViPubmedT5X base model\n",
    "!gsutil -m cp -r gs://vietai_public/vipubmedt5_base ."
   ]
  },
  {
   "cell_type": "code",
   "execution_count": null,
   "id": "e6b80d14-21d3-4d61-a1fa-b636cd59e027",
   "metadata": {},
   "outputs": [],
   "source": [
    "############################### FAQ_summarization ###############################\n",
    "\n",
    "task = 'FAQ_summarization'\n",
    "train_file = f'ViPubmed/data/{task}/train.tsv'\n",
    "test_file = f'ViPubmed/data/{task}/test.tsv'\n",
    "dev_file = f'ViPubmed/data/{task}/dev.tsv'\n",
    "\n",
    "model_dir = f'out/{task}/vipubmedt5_base'\n",
    "pretrained_path=f'vipubmedt5_base/checkpoint_1500000'\n",
    "\n",
    "gin_file = f'ViPubmed/configs/runs/base_finetune.gin'\n",
    "\n",
    "metric = 'rouge'\n",
    "\n",
    "# Train settings\n",
    "batch_size = 64\n",
    "features_length = {\"inputs\": 256, \"targets\": 64}\n",
    "train_steps = 1000 + 1500000 # 1000 finetune steps + 1.5M pretraining step\n",
    "save_period = train_steps\n",
    "eval_period = 1000\n",
    "\n",
    "!python3 'ViPubmed/src/finetune_t5x.py' \\\n",
    "  --gin_file=\"{gin_file}\" \\\n",
    "  --gin.MODEL_DIR=\"'{model_dir}'\" \\\n",
    "  --gin.INITIAL_CHECKPOINT_PATH=\"'{pretrained_path}'\" \\\n",
    "  --gin.TRAIN_STEPS='{train_steps}' \\\n",
    "  --gin.SAVE_PERIOD='{save_period}'\\\n",
    "  --gin.EVAL_PERIOD='{eval_period}'\\\n",
    "  --gin.MIXTURE_OR_TASK_NAME=\"'{task}'\" \\\n",
    "  --gin.TASK_FEATURE_LENGTHS=\"{features_length}\" \\\n",
    "  --gin.BATCH_SIZE='{batch_size}' \\\n",
    "  --task=\"{task}\" \\\n",
    "  --metric=\"{metric}\" \\\n",
    "  --train_file=\"{train_file}\" \\\n",
    "  --predict_file=\"{test_file}\" # or {dev_file}\n"
   ]
  },
  {
   "cell_type": "code",
   "execution_count": null,
   "id": "7c749f89-eaf8-4c80-b19a-da072e5e0bb1",
   "metadata": {
    "scrolled": true,
    "tags": []
   },
   "outputs": [],
   "source": [
    "############################### acrDrAid ###############################\n",
    "\n",
    "task = 'acrDrAid'\n",
    "train_file = f'ViPubmed/data/{task}/train.tsv'\n",
    "test_file = f'ViPubmed/data/{task}/test.tsv'\n",
    "dev_file = f'ViPubmed/data/{task}/dev.tsv'\n",
    "\n",
    "model_dir = f'out/{task}/vipubmedt5_base_dev_0'\n",
    "pretrained_path=f'vipubmedt5_base/checkpoint_1500000'\n",
    "\n",
    "gin_file = f'ViPubmed/configs/runs/base_finetune.gin'\n",
    "\n",
    "metric = 'macro_f1'\n",
    "\n",
    "# Train settings\n",
    "batch_size = 64\n",
    "features_length = {\"inputs\": 256, \"targets\": 3}\n",
    "train_steps = 1600 + 1500000 # 1600 finetune steps + 1.5M pretraining step\n",
    "save_period = train_steps\n",
    "eval_period = 1600\n",
    "learning_rate = 0.0005\n",
    "\n",
    "\n",
    "!python3 'ViPubmed/src/finetune_t5x.py' \\\n",
    "  --gin_file=\"{gin_file}\" \\\n",
    "  --gin.MODEL_DIR=\"'{model_dir}'\" \\\n",
    "  --gin.INITIAL_CHECKPOINT_PATH=\"'{pretrained_path}'\" \\\n",
    "  --gin.TRAIN_STEPS='{train_steps}' \\\n",
    "  --gin.SAVE_PERIOD='{save_period}'\\\n",
    "  --gin.EVAL_PERIOD='{eval_period}'\\\n",
    "  --gin.MIXTURE_OR_TASK_NAME=\"'{task}'\" \\\n",
    "  --gin.LEARNING_RATE='{learning_rate}' \\\n",
    "  --gin.TASK_FEATURE_LENGTHS=\"{features_length}\" \\\n",
    "  --gin.BATCH_SIZE='{batch_size}' \\\n",
    "  --task=\"{task}\" \\\n",
    "  --metric=\"{metric}\" \\\n",
    "  --train_file=\"{train_file}\" \\\n",
    "  --predict_file=\"{test_file}\" # or {dev_file}\n"
   ]
  },
  {
   "cell_type": "code",
   "execution_count": null,
   "id": "6e22e200-a64c-4de6-9f60-da8c3675a654",
   "metadata": {},
   "outputs": [],
   "source": [
    "############################### vimednli ###############################\n",
    "\n",
    "task = 'vi_mednli'\n",
    "train_file = f'ViPubmed/data/{task}/train_vi_refined.tsv'\n",
    "test_file = f'ViPubmed/data/{task}/test_vi_refined.tsv'\n",
    "dev_file = f'ViPubmed/data/{task}/dev_vi_refined.tsv'\n",
    "\n",
    "model_dir = f'out/{task}/vipubmedt5_base'\n",
    "pretrained_path=f'vipubmedt5_base/checkpoint_1500000'\n",
    "\n",
    "gin_file = f'ViPubmed/configs/runs/base_finetune.gin'\n",
    "\n",
    "metric = 'accuracy'\n",
    "\n",
    "# Train settings\n",
    "batch_size = 64\n",
    "features_length = {\"inputs\": 128, \"targets\": 6}\n",
    "train_steps = 4800 + 1500000 # 1000 finetune steps + 1.5M pretraining step\n",
    "save_period = train_steps\n",
    "eval_period = 4800\n",
    "learning_rate = 0.0005\n",
    "\n",
    "!python3 'ViPubmed/src/finetune_t5x.py' \\\n",
    "  --gin_file=\"{gin_file}\" \\\n",
    "  --gin.MODEL_DIR=\"'{model_dir}'\" \\\n",
    "  --gin.INITIAL_CHECKPOINT_PATH=\"'{pretrained_path}'\" \\\n",
    "  --gin.TRAIN_STEPS='{train_steps}' \\\n",
    "  --gin.SAVE_PERIOD='{save_period}'\\\n",
    "  --gin.EVAL_PERIOD='{eval_period}'\\\n",
    "  --gin.MIXTURE_OR_TASK_NAME=\"'{task}'\" \\\n",
    "  --gin.LEARNING_RATE='{learning_rate}' \\\n",
    "  --gin.TASK_FEATURE_LENGTHS=\"{features_length}\" \\\n",
    "  --gin.BATCH_SIZE='{batch_size}' \\\n",
    "  --task=\"{task}\" \\\n",
    "  --metric=\"{metric}\" \\\n",
    "  --train_file=\"{train_file}\" \\\n",
    "  --predict_file=\"{test_file}\" # or {dev_file}\n"
   ]
  },
  {
   "cell_type": "code",
   "execution_count": null,
   "id": "d650c339-9be5-4e4e-8ead-a2d39524c938",
   "metadata": {},
   "outputs": [],
   "source": []
  }
 ],
 "metadata": {
  "kernelspec": {
   "display_name": "Python 3 (ipykernel)",
   "language": "python",
   "name": "python3"
  },
  "language_info": {
   "codemirror_mode": {
    "name": "ipython",
    "version": 3
   },
   "file_extension": ".py",
   "mimetype": "text/x-python",
   "name": "python",
   "nbconvert_exporter": "python",
   "pygments_lexer": "ipython3",
   "version": "3.9.13"
  }
 },
 "nbformat": 4,
 "nbformat_minor": 5
}
